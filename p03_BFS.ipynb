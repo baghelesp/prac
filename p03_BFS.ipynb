{
  "nbformat": 4,
  "nbformat_minor": 0,
  "metadata": {
    "colab": {
      "provenance": []
    },
    "kernelspec": {
      "name": "python3",
      "display_name": "Python 3"
    },
    "language_info": {
      "name": "python"
    }
  },
  "cells": [
    {
      "cell_type": "code",
      "execution_count": 12,
      "metadata": {
        "colab": {
          "base_uri": "https://localhost:8080/"
        },
        "id": "aoaa4Mmngcer",
        "outputId": "1f54f628-0e34-4745-f65d-3ede69a47df7"
      },
      "outputs": [
        {
          "output_type": "stream",
          "name": "stdout",
          "text": [
            "From Bengaluru to New Delhi Path :  ['F', 'A', 'B']\n",
            "Cost of a path is :  8\n"
          ]
        }
      ],
      "source": [
        "from array import *\n",
        "cost=[[0,3,2,-99,-99,5],\n",
        "       [3,0,1,6,-99,-99],\n",
        "       [2,1,0,3,4,-99],\n",
        "       [-99,6,3,0,3,-99],\n",
        "       [-99,-99,4,3,0,2],\n",
        "       [5,-99,-99,-99,2,0]]\n",
        "graph={\n",
        "    'A':['B','C','F'],\n",
        "    'B':['A','C','D'],\n",
        "    'C':['A','B','D','E'],\n",
        "    'D':['B','C','E'],\n",
        "    'E':['C','D','F'],\n",
        "    'F':['A','F']\n",
        "}\n",
        "\n",
        "#maintaing index and corresponding city\n",
        "city_index={\n",
        "    'A' :0,\n",
        "    'B':1,\n",
        "    'C':2,\n",
        "    'D':3,\n",
        "    'E':4,\n",
        "    'F':5\n",
        "}\n",
        "# mumbai A\n",
        "# bengaluru B\n",
        "# lucknow E\n",
        "# hyderabad C\n",
        "# kolkata D\n",
        "# new delhi F\n",
        "\n",
        "visited=[]\n",
        "queue=[]\n",
        "route_cost=0\n",
        "path=[]\n",
        "def bfs(visited,graph,source,target):\n",
        "  visited.append(source)\n",
        "  queue.append(source)\n",
        "  \n",
        "  while queue:\n",
        "    m=queue.pop(0)\n",
        "    path.append(m)\n",
        "    if m==target:\n",
        "      break\n",
        "    for adj in graph[m]:\n",
        "      if adj not in visited :\n",
        "        visited.append(adj)\n",
        "        queue.append(adj)\n",
        "def calculate_cost(path,route_cost):\n",
        "  length = len(path)\n",
        "  for i in range(1,length):\n",
        "    route_cost=route_cost+ cost[city_index[path[i-1]]][city_index[path[i]]]\n",
        "  print('Cost of a path is : ',route_cost)\n",
        "\n",
        "\n",
        "#finding a path from new delhi to bengaluru\n",
        "bfs(visited,graph,'F','B')\n",
        "\n",
        "print('From Bengaluru to New Delhi Path : ',path)\n",
        "\n",
        "#calculate cost of a path\n",
        "calculate_cost(path,route_cost)"
      ]
    }
  ]
}