{
  "nbformat": 4,
  "nbformat_minor": 0,
  "metadata": {
    "colab": {
      "provenance": []
    },
    "kernelspec": {
      "name": "python3",
      "display_name": "Python 3"
    },
    "language_info": {
      "name": "python"
    }
  },
  "cells": [
    {
      "cell_type": "code",
      "execution_count": null,
      "metadata": {
        "colab": {
          "base_uri": "https://localhost:8080/"
        },
        "id": "ktH5Q1fM_MaY",
        "outputId": "f26e9815-5551-4f7a-af30-916a69ef6981"
      },
      "outputs": [
        {
          "output_type": "stream",
          "name": "stdout",
          "text": [
            "Enter Age =young, avg, senior : young\n",
            "Enter income=low, medium, high :high\n",
            "Enter student= yes, no : no\n",
            "Enter credit rating=fair, excellent : excellent\n",
            "0.4736842105263158\n",
            "0.5263157894736842\n",
            "Buy computer=No\n"
          ]
        }
      ],
      "source": [
        "CdAge={'young':{'yes':2/5, 'no':3/5},\n",
        "       'avg':{'yes':1,'no':0},\n",
        "       'senior':{'yes':3/5, 'no':2/5}}\n",
        "CdIncome={\n",
        "    'low':{'yes':3/4,'no':1/4},\n",
        "    'medium':{'yes':4/6,'no':2/6},\n",
        "    'high':{'yes':2/4,'no':2/4}\n",
        "}\n",
        "cdStudent={\n",
        "    'yes':{'yes':6/7,'no':1/7},\n",
        "    'no':{'yes':3/7,'no':4/7}\n",
        "}\n",
        "cdCreditRating={\n",
        "    'fair':{'yes':6/8,'no':2/8},\n",
        "    'excellent':{'yes':3/6,'no':3/6}\n",
        "}\n",
        "\n",
        "PYes=9/14\n",
        "PNo=5/14\n",
        "\n",
        "age=input('Enter Age =young, avg, senior : ')\n",
        "income=input('Enter income=low, medium, high :')\n",
        "student=input('Enter student= yes, no : ')\n",
        "cr=input('Enter credit rating=fair, excellent : ')\n",
        "\n",
        "VnbYes=PYes*(CdAge[age]['yes'])*CdIncome[income]['yes']*cdCreditRating[cr]['yes']*cdStudent[student]['yes'];\n",
        "\n",
        "VnbNo=PNo*(CdAge[age]['no'])*CdIncome[income]['no']*cdCreditRating[cr]['no']*cdStudent[student]['no'];\n",
        "print(VnbYes/(VnbYes+VnbNo));\n",
        "print(VnbNo/(VnbYes+VnbNo));\n",
        "\n",
        "if(VnbYes>VnbNo):\n",
        "  print('Buy computer =yes')\n",
        "else:\n",
        "  print('Buy computer=No')"
      ]
    }
  ]
}