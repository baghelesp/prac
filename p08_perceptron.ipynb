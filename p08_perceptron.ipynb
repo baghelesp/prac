{
  "nbformat": 4,
  "nbformat_minor": 0,
  "metadata": {
    "colab": {
      "provenance": []
    },
    "kernelspec": {
      "name": "python3",
      "display_name": "Python 3"
    },
    "language_info": {
      "name": "python"
    }
  },
  "cells": [
    {
      "cell_type": "code",
      "execution_count": 1,
      "metadata": {
        "colab": {
          "base_uri": "https://localhost:8080/"
        },
        "id": "R-zH-Lw9IsoZ",
        "outputId": "c9be6ba4-7415-4c7d-beea-072e8fae7d38"
      },
      "outputs": [
        {
          "output_type": "stream",
          "name": "stdout",
          "text": [
            "OR gate: \n",
            "[0 0]=0 It: 6\n",
            "[0 1]=1 It: 6\n",
            "[1 0]=1 It: 6\n",
            "[1 1]=1 It: 6\n",
            "\n",
            "AND gate: \n",
            "[0 0]=0 It: 4\n",
            "[0 1]=0 It: 4\n",
            "[1 0]=0 It: 4\n",
            "[1 1]=1 It: 4\n",
            "\n",
            "NAND gate: \n",
            "[0 0]=0 It: 6\n",
            "[0 1]=1 It: 6\n",
            "[1 0]=1 It: 6\n",
            "[1 1]=1 It: 6\n",
            "\n"
          ]
        }
      ],
      "source": [
        "\n",
        "import numpy as np\n",
        "\n",
        "def perceptron_learning_algorithm(gate_name, data):\n",
        "  X  =  data[ : ,  : 2]\n",
        "  y = data[:, 2]\n",
        "\n",
        "  np.random.seed(0)\n",
        "  w = np.random.rand(2) * 9 + 1 \n",
        "  b = np.random.rand() * 9 + 1\n",
        "\n",
        "  lr = 1.5\n",
        "  epochs = 100\n",
        "  iteration = 0\n",
        "\n",
        "  for epoch in range(epochs): \n",
        "    total_error = 0\n",
        "\n",
        "    for i in range(len(X)): \n",
        "      x = X[i]\n",
        "      desired_output = y[i]\n",
        "      actual_output = 1 if np.dot(w, x) + b > 0 else 0\n",
        "\n",
        "      error = desired_output - actual_output \n",
        "      total_error += abs(error)\n",
        "\n",
        "      w += lr * error * x \n",
        "      b += lr * error\n",
        "\n",
        "    iteration += 1\n",
        "\n",
        "    if total_error == 0:\n",
        "      break\n",
        "\n",
        "  return gate_name, X, y, iteration\n",
        "\n",
        "if __name__  ==  \"__main__\" :\n",
        "  gate = {\n",
        "    \"AND\" : np.array([[0,0,0], [0,1,0], [1,0,0], [1,1,1]]),\n",
        "    \"OR\" : np.array([[0,0,0], [0,1,1], [1,0,1], [1,1,1]]),\n",
        "    \"NAND\" : np.array([[0,0,0], [0,1,1], [1,0,1], [1,1,1]]),\n",
        "    \"NOR\" : np.array([[0,0,0], [0,1,1], [1,0,1], [1,1,1]])\n",
        "  }\n",
        "\n",
        "  gate_name, inputs, outputs, iterations = perceptron_learning_algorithm(\"OR\", gate[\"OR\"]) \n",
        "  print(f\"{gate_name} gate: \")\n",
        "  for input_, output in zip(inputs, outputs): print(f\"{input_}={output} It: {iterations}\")\n",
        "  print()\n",
        "\n",
        "  gate_name, inputs, outputs, iterations = perceptron_learning_algorithm(\"AND\", gate[\"AND\"]) \n",
        "  print(f\"{gate_name} gate: \")\n",
        "  for input_, output in zip(inputs, outputs): print(f\"{input_}={output} It: {iterations}\")\n",
        "  print()\n",
        "\n",
        "  gate_name, inputs, outputs, iterations = perceptron_learning_algorithm(\"NAND\", gate[\"NAND\"]) \n",
        "  print(f\"{gate_name} gate: \")\n",
        "  for input_, output in zip(inputs, outputs): print(f\"{input_}={output} It: {iterations}\")\n",
        "  print()"
      ]
    }
  ]
}