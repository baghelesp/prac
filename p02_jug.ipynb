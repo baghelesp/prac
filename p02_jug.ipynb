{
  "nbformat": 4,
  "nbformat_minor": 0,
  "metadata": {
    "colab": {
      "provenance": []
    },
    "kernelspec": {
      "name": "python3",
      "display_name": "Python 3"
    },
    "language_info": {
      "name": "python"
    }
  },
  "cells": [
    {
      "cell_type": "code",
      "source": [
        "def water_jug_problem(jug1_cap, jug2_cap, target):\n",
        "    jug1 = 0  # initial water amount in jug1\n",
        "    jug2 = 0  # initial water amount in jug2\n",
        "    steps = [] \n",
        "\n",
        "    while True:\n",
        "        if jug1 == target:\n",
        "            steps.append(f\"Reached {target} liters in jug1.\")\n",
        "            print(f\"({jug1,jug2})\")\n",
        "            break\n",
        "        elif jug2 == target:\n",
        "            steps.append(f\"Reached {target} liters in jug2.\")\n",
        "            print(f\"({jug1,jug2})\")\n",
        "            break\n",
        "\n",
        "        if jug1 == 0:  # fill jug1 if it's empty\n",
        "            steps.append(\"Fill jug1.\")\n",
        "            jug1 = jug1_cap\n",
        "            print(f\"({jug1,jug2})\")\n",
        "        elif jug2 == jug2_cap:  # empty jug2 if it's full\n",
        "           \n",
        "            steps.append(\"Empty jug2.\")\n",
        "            jug2 = 0\n",
        "            print(f\"({jug1,jug2})\")\n",
        "\n",
        "        # transfer water from jug1 to jug2\n",
        "\n",
        "        transfer_amount = min(jug1, jug2_cap - jug2)\n",
        "        jug1 -= transfer_amount\n",
        "        jug2 += transfer_amount\n",
        "        print(f\"({jug1,jug2})\")\n",
        "        steps.append(f\"Transfer {transfer_amount} liters from jug1 to jug2.\")\n",
        "\n",
        "    return steps\n"
      ],
      "metadata": {
        "id": "EvdtD4CG7QFR"
      },
      "execution_count": null,
      "outputs": []
    },
    {
      "cell_type": "code",
      "source": [
        "steps=water_jug_problem(3,4,2)\n"
      ],
      "metadata": {
        "colab": {
          "base_uri": "https://localhost:8080/"
        },
        "id": "lQQYI3t7of2Y",
        "outputId": "8e61aa5d-162d-483d-e863-759b9e3af914"
      },
      "execution_count": null,
      "outputs": [
        {
          "output_type": "stream",
          "name": "stdout",
          "text": [
            "((3, 0))\n",
            "((0, 3))\n",
            "((3, 3))\n",
            "((2, 4))\n",
            "((2, 4))\n"
          ]
        }
      ]
    }
  ]
}